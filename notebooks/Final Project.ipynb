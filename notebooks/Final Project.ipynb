{
 "cells": [
  {
   "cell_type": "markdown",
   "id": "70d07f95-b682-4ead-ab52-3ff6bb41faa2",
   "metadata": {},
   "source": [
    "**Part 1: Introduction to Data Types and Storage Methods**\n",
    "\n",
    "Load the Titanic dataset and explore different types of data."
   ]
  },
  {
   "cell_type": "code",
   "execution_count": 49,
   "id": "3dffa0df-f2ec-44b6-8c75-64ef1281fd82",
   "metadata": {},
   "outputs": [
    {
     "data": {
      "text/plain": [
       "pclass       float64\n",
       "survived     float64\n",
       "name          object\n",
       "sex           object\n",
       "age          float64\n",
       "sibsp        float64\n",
       "parch        float64\n",
       "ticket        object\n",
       "fare         float64\n",
       "cabin         object\n",
       "embarked      object\n",
       "boat          object\n",
       "body         float64\n",
       "home.dest     object\n",
       "dtype: object"
      ]
     },
     "execution_count": 49,
     "metadata": {},
     "output_type": "execute_result"
    }
   ],
   "source": [
    "# Import required libraries\n",
    "import pandas as pd\n",
    "\n",
    "# Load Titanic dataset\n",
    "df = pd.read_csv(\"titanic.csv\")\n",
    "\n",
    "# Show first few rows\n",
    "df.head()\n",
    "\n",
    "# Check the data types of each column\n",
    "df.dtypes"
   ]
  },
  {
   "cell_type": "markdown",
   "id": "9307915b-2797-4476-a6f0-edd2a97c384e",
   "metadata": {},
   "source": [
    "**Part 2: Compare and Contrast Types of Data Sources**\n",
    "\n",
    "Write Python code to read data from different sources."
   ]
  },
  {
   "cell_type": "code",
   "execution_count": 50,
   "id": "301e310e-3302-4f26-a616-3109158ec56f",
   "metadata": {},
   "outputs": [
    {
     "name": "stdout",
     "output_type": "stream",
     "text": [
      "{'Temperature (°C)': 13.3, 'Humidity (%)': 79}\n"
     ]
    },
    {
     "data": {
      "text/html": [
       "<div>\n",
       "<style scoped>\n",
       "    .dataframe tbody tr th:only-of-type {\n",
       "        vertical-align: middle;\n",
       "    }\n",
       "\n",
       "    .dataframe tbody tr th {\n",
       "        vertical-align: top;\n",
       "    }\n",
       "\n",
       "    .dataframe thead th {\n",
       "        text-align: right;\n",
       "    }\n",
       "</style>\n",
       "<table border=\"1\" class=\"dataframe\">\n",
       "  <thead>\n",
       "    <tr style=\"text-align: right;\">\n",
       "      <th></th>\n",
       "      <th>id</th>\n",
       "      <th>name</th>\n",
       "    </tr>\n",
       "  </thead>\n",
       "  <tbody>\n",
       "    <tr>\n",
       "      <th>0</th>\n",
       "      <td>1</td>\n",
       "      <td>Alice</td>\n",
       "    </tr>\n",
       "    <tr>\n",
       "      <th>1</th>\n",
       "      <td>2</td>\n",
       "      <td>Bob</td>\n",
       "    </tr>\n",
       "  </tbody>\n",
       "</table>\n",
       "</div>"
      ],
      "text/plain": [
       "   id   name\n",
       "0   1  Alice\n",
       "1   2    Bob"
      ]
     },
     "execution_count": 50,
     "metadata": {},
     "output_type": "execute_result"
    }
   ],
   "source": [
    "#Hands-On:\n",
    "#Write Python code to read data from different sources.\n",
    "\n",
    "# 1. CSV File (Titanic dataset - already loaded before)\n",
    "df_csv = pd.read_csv(\"titanic.csv\")\n",
    "df_csv.head()\n",
    "\n",
    "# 2. API Example: OpenWeatherMap (real-time weather for Southampton)\n",
    "\n",
    "import requests\n",
    "\n",
    "api_key = \"0d1ad24782db5aaeeb1f380e8fad7bf8\"\n",
    "url = f\"https://api.openweathermap.org/data/2.5/weather?q=Southampton&appid={api_key}&units=metric\"\n",
    "\n",
    "response = requests.get(url)\n",
    "data_api = response.json()\n",
    "\n",
    "# Print the extracted values\n",
    "print({\n",
    "    \"Temperature (°C)\": data_api[\"main\"][\"temp\"],\n",
    "    \"Humidity (%)\": data_api[\"main\"][\"humidity\"]\n",
    "})\n",
    "\n",
    "# 3. SQLite Database Example (create and read a simple table)\n",
    "\n",
    "import sqlite3\n",
    "\n",
    "# Create a temporary in-memory database\n",
    "conn = sqlite3.connect(\":memory:\")\n",
    "cursor = conn.cursor()\n",
    "\n",
    "# Create a simple student table\n",
    "cursor.execute(\"CREATE TABLE students (id INTEGER, name TEXT)\")\n",
    "cursor.execute(\"INSERT INTO students VALUES (1, 'Alice'), (2, 'Bob')\")\n",
    "\n",
    "# Read from the database\n",
    "df_db = pd.read_sql(\"SELECT * FROM students\", conn)\n",
    "df_db\n",
    "\n"
   ]
  },
  {
   "cell_type": "markdown",
   "id": "da6f4eae-c1c2-4592-b4d7-9f45d0a79c79",
   "metadata": {},
   "source": [
    "**Part 3: Structured vs. Unstructured Data**\n",
    "\n",
    "Create examples of structured and unstructured data using the Titanic dataset.\n"
   ]
  },
  {
   "cell_type": "code",
   "execution_count": 51,
   "id": "9c59259c-5025-48e9-a725-04bf47993a7e",
   "metadata": {},
   "outputs": [
    {
     "name": "stdout",
     "output_type": "stream",
     "text": [
      "   pclass  survived                                             name     sex  \\\n",
      "0     1.0       1.0                    Allen, Miss. Elisabeth Walton  female   \n",
      "1     1.0       1.0                   Allison, Master. Hudson Trevor    male   \n",
      "2     1.0       0.0                     Allison, Miss. Helen Loraine  female   \n",
      "3     1.0       0.0             Allison, Mr. Hudson Joshua Creighton    male   \n",
      "4     1.0       0.0  Allison, Mrs. Hudson J C (Bessie Waldo Daniels)  female   \n",
      "\n",
      "       age  sibsp  parch  ticket      fare    cabin embarked boat   body  \\\n",
      "0  29.0000    0.0    0.0   24160  211.3375       B5        S    2    NaN   \n",
      "1   0.9167    1.0    2.0  113781  151.5500  C22 C26        S   11    NaN   \n",
      "2   2.0000    1.0    2.0  113781  151.5500  C22 C26        S  NaN    NaN   \n",
      "3  30.0000    1.0    2.0  113781  151.5500  C22 C26        S  NaN  135.0   \n",
      "4  25.0000    1.0    2.0  113781  151.5500  C22 C26        S  NaN    NaN   \n",
      "\n",
      "                         home.dest  \n",
      "0                     St Louis, MO  \n",
      "1  Montreal, PQ / Chesterville, ON  \n",
      "2  Montreal, PQ / Chesterville, ON  \n",
      "3  Montreal, PQ / Chesterville, ON  \n",
      "4  Montreal, PQ / Chesterville, ON  \n"
     ]
    }
   ],
   "source": [
    "print(df.head())\n",
    "# I am saving structured Titanic data\n",
    "df.to_csv(\"structured_data.csv\", index=False)"
   ]
  },
  {
   "cell_type": "markdown",
   "id": "8ab66ba0-6350-42d6-a606-4c99e5246378",
   "metadata": {},
   "source": [
    "This is structured data — we can see how every column has a label (like Age, Sex, Fare) and each row is one passenger.\n",
    "\n",
    "Now I will extract some unstructured data — for example, passenger names and cabin notes.\n"
   ]
  },
  {
   "cell_type": "code",
   "execution_count": 52,
   "id": "ad81f0b3-7296-41ae-8bdc-4a376ee18fdd",
   "metadata": {},
   "outputs": [],
   "source": [
    "# Show just the Name and Cabin columns\n",
    "df[[\"name\", \"cabin\"]].head(10)\n",
    "# I am saving only the 'Name' column (unstructured text)\n",
    "df['name'].to_csv(\"unstructured_data.txt\", index=False, header=False)"
   ]
  },
  {
   "cell_type": "markdown",
   "id": "f3d86afc-b3e9-4247-ae8b-c56b0288bb36",
   "metadata": {},
   "source": [
    "Observations:\n",
    "\n",
    "- The full dataset is structured, but it contains unstructured elements.\n",
    "- The 'name' and 'cabin' columns are harder to standardize or analyze directly — they contain inconsistent formats and missing values.\n",
    "- This shows how real-world datasets often include both structured and unstructured data together.\n",
    "\n",
    "Understanding this difference helps us decide how to clean or process each part of our dataset effectively.\n"
   ]
  },
  {
   "cell_type": "markdown",
   "id": "5cf94465-93d1-4920-bfcc-2e063db3aa75",
   "metadata": {},
   "source": [
    "**Part 4: Storage Considerations**\n",
    "\n",
    "\n",
    "Implement storage solutions in Python.\n"
   ]
  },
  {
   "cell_type": "code",
   "execution_count": 12,
   "id": "c3e54982-56f0-46ce-af98-19a21ada3b1d",
   "metadata": {},
   "outputs": [
    {
     "data": {
      "text/html": [
       "<div>\n",
       "<style scoped>\n",
       "    .dataframe tbody tr th:only-of-type {\n",
       "        vertical-align: middle;\n",
       "    }\n",
       "\n",
       "    .dataframe tbody tr th {\n",
       "        vertical-align: top;\n",
       "    }\n",
       "\n",
       "    .dataframe thead th {\n",
       "        text-align: right;\n",
       "    }\n",
       "</style>\n",
       "<table border=\"1\" class=\"dataframe\">\n",
       "  <thead>\n",
       "    <tr style=\"text-align: right;\">\n",
       "      <th></th>\n",
       "      <th>pclass</th>\n",
       "      <th>survived</th>\n",
       "      <th>name</th>\n",
       "      <th>sex</th>\n",
       "      <th>age</th>\n",
       "      <th>sibsp</th>\n",
       "      <th>parch</th>\n",
       "      <th>ticket</th>\n",
       "      <th>fare</th>\n",
       "      <th>cabin</th>\n",
       "      <th>embarked</th>\n",
       "      <th>boat</th>\n",
       "      <th>body</th>\n",
       "      <th>home.dest</th>\n",
       "    </tr>\n",
       "  </thead>\n",
       "  <tbody>\n",
       "    <tr>\n",
       "      <th>0</th>\n",
       "      <td>1.0</td>\n",
       "      <td>1.0</td>\n",
       "      <td>Allen, Miss. Elisabeth Walton</td>\n",
       "      <td>female</td>\n",
       "      <td>29.0000</td>\n",
       "      <td>0.0</td>\n",
       "      <td>0.0</td>\n",
       "      <td>24160</td>\n",
       "      <td>211.3375</td>\n",
       "      <td>B5</td>\n",
       "      <td>S</td>\n",
       "      <td>2</td>\n",
       "      <td>NaN</td>\n",
       "      <td>St Louis, MO</td>\n",
       "    </tr>\n",
       "    <tr>\n",
       "      <th>1</th>\n",
       "      <td>1.0</td>\n",
       "      <td>1.0</td>\n",
       "      <td>Allison, Master. Hudson Trevor</td>\n",
       "      <td>male</td>\n",
       "      <td>0.9167</td>\n",
       "      <td>1.0</td>\n",
       "      <td>2.0</td>\n",
       "      <td>113781</td>\n",
       "      <td>151.5500</td>\n",
       "      <td>C22 C26</td>\n",
       "      <td>S</td>\n",
       "      <td>11</td>\n",
       "      <td>NaN</td>\n",
       "      <td>Montreal, PQ / Chesterville, ON</td>\n",
       "    </tr>\n",
       "    <tr>\n",
       "      <th>2</th>\n",
       "      <td>1.0</td>\n",
       "      <td>0.0</td>\n",
       "      <td>Allison, Miss. Helen Loraine</td>\n",
       "      <td>female</td>\n",
       "      <td>2.0000</td>\n",
       "      <td>1.0</td>\n",
       "      <td>2.0</td>\n",
       "      <td>113781</td>\n",
       "      <td>151.5500</td>\n",
       "      <td>C22 C26</td>\n",
       "      <td>S</td>\n",
       "      <td>NaN</td>\n",
       "      <td>NaN</td>\n",
       "      <td>Montreal, PQ / Chesterville, ON</td>\n",
       "    </tr>\n",
       "    <tr>\n",
       "      <th>3</th>\n",
       "      <td>1.0</td>\n",
       "      <td>0.0</td>\n",
       "      <td>Allison, Mr. Hudson Joshua Creighton</td>\n",
       "      <td>male</td>\n",
       "      <td>30.0000</td>\n",
       "      <td>1.0</td>\n",
       "      <td>2.0</td>\n",
       "      <td>113781</td>\n",
       "      <td>151.5500</td>\n",
       "      <td>C22 C26</td>\n",
       "      <td>S</td>\n",
       "      <td>NaN</td>\n",
       "      <td>135.0</td>\n",
       "      <td>Montreal, PQ / Chesterville, ON</td>\n",
       "    </tr>\n",
       "    <tr>\n",
       "      <th>4</th>\n",
       "      <td>1.0</td>\n",
       "      <td>0.0</td>\n",
       "      <td>Allison, Mrs. Hudson J C (Bessie Waldo Daniels)</td>\n",
       "      <td>female</td>\n",
       "      <td>25.0000</td>\n",
       "      <td>1.0</td>\n",
       "      <td>2.0</td>\n",
       "      <td>113781</td>\n",
       "      <td>151.5500</td>\n",
       "      <td>C22 C26</td>\n",
       "      <td>S</td>\n",
       "      <td>NaN</td>\n",
       "      <td>NaN</td>\n",
       "      <td>Montreal, PQ / Chesterville, ON</td>\n",
       "    </tr>\n",
       "  </tbody>\n",
       "</table>\n",
       "</div>"
      ],
      "text/plain": [
       "   pclass  survived                                             name     sex  \\\n",
       "0     1.0       1.0                    Allen, Miss. Elisabeth Walton  female   \n",
       "1     1.0       1.0                   Allison, Master. Hudson Trevor    male   \n",
       "2     1.0       0.0                     Allison, Miss. Helen Loraine  female   \n",
       "3     1.0       0.0             Allison, Mr. Hudson Joshua Creighton    male   \n",
       "4     1.0       0.0  Allison, Mrs. Hudson J C (Bessie Waldo Daniels)  female   \n",
       "\n",
       "       age  sibsp  parch  ticket      fare    cabin embarked boat   body  \\\n",
       "0  29.0000    0.0    0.0   24160  211.3375       B5        S    2    NaN   \n",
       "1   0.9167    1.0    2.0  113781  151.5500  C22 C26        S   11    NaN   \n",
       "2   2.0000    1.0    2.0  113781  151.5500  C22 C26        S  NaN    NaN   \n",
       "3  30.0000    1.0    2.0  113781  151.5500  C22 C26        S  NaN  135.0   \n",
       "4  25.0000    1.0    2.0  113781  151.5500  C22 C26        S  NaN    NaN   \n",
       "\n",
       "                         home.dest  \n",
       "0                     St Louis, MO  \n",
       "1  Montreal, PQ / Chesterville, ON  \n",
       "2  Montreal, PQ / Chesterville, ON  \n",
       "3  Montreal, PQ / Chesterville, ON  \n",
       "4  Montreal, PQ / Chesterville, ON  "
      ]
     },
     "execution_count": 12,
     "metadata": {},
     "output_type": "execute_result"
    }
   ],
   "source": [
    "# Save Titanic data as CSV\n",
    "df.to_csv(\"titanic_storage.csv\", index=False)\n",
    "\n",
    "# Read back the file\n",
    "df_csv_storage = pd.read_csv(\"titanic_storage.csv\")\n",
    "df_csv_storage.head()"
   ]
  },
  {
   "cell_type": "code",
   "execution_count": 13,
   "id": "4e45f503-e0d4-495e-af05-537a39f68b74",
   "metadata": {},
   "outputs": [
    {
     "data": {
      "text/html": [
       "<div>\n",
       "<style scoped>\n",
       "    .dataframe tbody tr th:only-of-type {\n",
       "        vertical-align: middle;\n",
       "    }\n",
       "\n",
       "    .dataframe tbody tr th {\n",
       "        vertical-align: top;\n",
       "    }\n",
       "\n",
       "    .dataframe thead th {\n",
       "        text-align: right;\n",
       "    }\n",
       "</style>\n",
       "<table border=\"1\" class=\"dataframe\">\n",
       "  <thead>\n",
       "    <tr style=\"text-align: right;\">\n",
       "      <th></th>\n",
       "      <th>pclass</th>\n",
       "      <th>survived</th>\n",
       "      <th>name</th>\n",
       "      <th>sex</th>\n",
       "      <th>age</th>\n",
       "      <th>sibsp</th>\n",
       "      <th>parch</th>\n",
       "      <th>ticket</th>\n",
       "      <th>fare</th>\n",
       "      <th>cabin</th>\n",
       "      <th>embarked</th>\n",
       "      <th>boat</th>\n",
       "      <th>body</th>\n",
       "      <th>home.dest</th>\n",
       "    </tr>\n",
       "  </thead>\n",
       "  <tbody>\n",
       "    <tr>\n",
       "      <th>0</th>\n",
       "      <td>1.0</td>\n",
       "      <td>1.0</td>\n",
       "      <td>Allen, Miss. Elisabeth Walton</td>\n",
       "      <td>female</td>\n",
       "      <td>29.0000</td>\n",
       "      <td>0.0</td>\n",
       "      <td>0.0</td>\n",
       "      <td>24160</td>\n",
       "      <td>211.3375</td>\n",
       "      <td>B5</td>\n",
       "      <td>S</td>\n",
       "      <td>2</td>\n",
       "      <td>NaN</td>\n",
       "      <td>St Louis, MO</td>\n",
       "    </tr>\n",
       "    <tr>\n",
       "      <th>1</th>\n",
       "      <td>1.0</td>\n",
       "      <td>1.0</td>\n",
       "      <td>Allison, Master. Hudson Trevor</td>\n",
       "      <td>male</td>\n",
       "      <td>0.9167</td>\n",
       "      <td>1.0</td>\n",
       "      <td>2.0</td>\n",
       "      <td>113781</td>\n",
       "      <td>151.5500</td>\n",
       "      <td>C22 C26</td>\n",
       "      <td>S</td>\n",
       "      <td>11</td>\n",
       "      <td>NaN</td>\n",
       "      <td>Montreal, PQ / Chesterville, ON</td>\n",
       "    </tr>\n",
       "    <tr>\n",
       "      <th>2</th>\n",
       "      <td>1.0</td>\n",
       "      <td>0.0</td>\n",
       "      <td>Allison, Miss. Helen Loraine</td>\n",
       "      <td>female</td>\n",
       "      <td>2.0000</td>\n",
       "      <td>1.0</td>\n",
       "      <td>2.0</td>\n",
       "      <td>113781</td>\n",
       "      <td>151.5500</td>\n",
       "      <td>C22 C26</td>\n",
       "      <td>S</td>\n",
       "      <td>None</td>\n",
       "      <td>NaN</td>\n",
       "      <td>Montreal, PQ / Chesterville, ON</td>\n",
       "    </tr>\n",
       "    <tr>\n",
       "      <th>3</th>\n",
       "      <td>1.0</td>\n",
       "      <td>0.0</td>\n",
       "      <td>Allison, Mr. Hudson Joshua Creighton</td>\n",
       "      <td>male</td>\n",
       "      <td>30.0000</td>\n",
       "      <td>1.0</td>\n",
       "      <td>2.0</td>\n",
       "      <td>113781</td>\n",
       "      <td>151.5500</td>\n",
       "      <td>C22 C26</td>\n",
       "      <td>S</td>\n",
       "      <td>None</td>\n",
       "      <td>135.0</td>\n",
       "      <td>Montreal, PQ / Chesterville, ON</td>\n",
       "    </tr>\n",
       "    <tr>\n",
       "      <th>4</th>\n",
       "      <td>1.0</td>\n",
       "      <td>0.0</td>\n",
       "      <td>Allison, Mrs. Hudson J C (Bessie Waldo Daniels)</td>\n",
       "      <td>female</td>\n",
       "      <td>25.0000</td>\n",
       "      <td>1.0</td>\n",
       "      <td>2.0</td>\n",
       "      <td>113781</td>\n",
       "      <td>151.5500</td>\n",
       "      <td>C22 C26</td>\n",
       "      <td>S</td>\n",
       "      <td>None</td>\n",
       "      <td>NaN</td>\n",
       "      <td>Montreal, PQ / Chesterville, ON</td>\n",
       "    </tr>\n",
       "  </tbody>\n",
       "</table>\n",
       "</div>"
      ],
      "text/plain": [
       "   pclass  survived                                             name     sex  \\\n",
       "0     1.0       1.0                    Allen, Miss. Elisabeth Walton  female   \n",
       "1     1.0       1.0                   Allison, Master. Hudson Trevor    male   \n",
       "2     1.0       0.0                     Allison, Miss. Helen Loraine  female   \n",
       "3     1.0       0.0             Allison, Mr. Hudson Joshua Creighton    male   \n",
       "4     1.0       0.0  Allison, Mrs. Hudson J C (Bessie Waldo Daniels)  female   \n",
       "\n",
       "       age  sibsp  parch  ticket      fare    cabin embarked  boat   body  \\\n",
       "0  29.0000    0.0    0.0   24160  211.3375       B5        S     2    NaN   \n",
       "1   0.9167    1.0    2.0  113781  151.5500  C22 C26        S    11    NaN   \n",
       "2   2.0000    1.0    2.0  113781  151.5500  C22 C26        S  None    NaN   \n",
       "3  30.0000    1.0    2.0  113781  151.5500  C22 C26        S  None  135.0   \n",
       "4  25.0000    1.0    2.0  113781  151.5500  C22 C26        S  None    NaN   \n",
       "\n",
       "                         home.dest  \n",
       "0                     St Louis, MO  \n",
       "1  Montreal, PQ / Chesterville, ON  \n",
       "2  Montreal, PQ / Chesterville, ON  \n",
       "3  Montreal, PQ / Chesterville, ON  \n",
       "4  Montreal, PQ / Chesterville, ON  "
      ]
     },
     "execution_count": 13,
     "metadata": {},
     "output_type": "execute_result"
    }
   ],
   "source": [
    "import sqlite3\n",
    "\n",
    "# Connect to SQLite database (file-based this time)\n",
    "conn = sqlite3.connect(\"titanic_storage.db\")\n",
    "\n",
    "# Save DataFrame to a table\n",
    "df.to_sql(\"passengers\", conn, if_exists=\"replace\", index=False)\n",
    "\n",
    "# Read the data back\n",
    "df_sql_storage = pd.read_sql(\"SELECT * FROM passengers LIMIT 5\", conn)\n",
    "df_sql_storage"
   ]
  },
  {
   "cell_type": "markdown",
   "id": "ecf58bcb-3223-4529-b65c-3af621ce7455",
   "metadata": {},
   "source": [
    "Observations:\n",
    "\n",
    "- CSV is simple and human-readable, but not efficient for large datasets.\n",
    "- SQLite is faster for querying and handles structured data better.\n",
    "- In real projects, we may use cloud databases or data lakes for even larger scale and speed.\n",
    "\n",
    "Choosing the right storage depends on our data size, access needs, and budget."
   ]
  },
  {
   "cell_type": "markdown",
   "id": "f5451db6-e7bb-4f2a-aa3d-c78113facd67",
   "metadata": {},
   "source": [
    "**Part 5: Integrate and Use an API**\n",
    "\n",
    "Fetch weather data for the departure (Southampton) and arrival (New York) locations of the Titanic."
   ]
  },
  {
   "cell_type": "code",
   "execution_count": 14,
   "id": "2ba38f34-efdf-4696-85d6-cde52fed420d",
   "metadata": {},
   "outputs": [
    {
     "data": {
      "text/html": [
       "<div>\n",
       "<style scoped>\n",
       "    .dataframe tbody tr th:only-of-type {\n",
       "        vertical-align: middle;\n",
       "    }\n",
       "\n",
       "    .dataframe tbody tr th {\n",
       "        vertical-align: top;\n",
       "    }\n",
       "\n",
       "    .dataframe thead th {\n",
       "        text-align: right;\n",
       "    }\n",
       "</style>\n",
       "<table border=\"1\" class=\"dataframe\">\n",
       "  <thead>\n",
       "    <tr style=\"text-align: right;\">\n",
       "      <th></th>\n",
       "      <th>City</th>\n",
       "      <th>Temperature (°C)</th>\n",
       "      <th>Humidity (%)</th>\n",
       "    </tr>\n",
       "  </thead>\n",
       "  <tbody>\n",
       "    <tr>\n",
       "      <th>0</th>\n",
       "      <td>Southampton</td>\n",
       "      <td>13.41</td>\n",
       "      <td>75</td>\n",
       "    </tr>\n",
       "    <tr>\n",
       "      <th>1</th>\n",
       "      <td>New York</td>\n",
       "      <td>27.91</td>\n",
       "      <td>62</td>\n",
       "    </tr>\n",
       "  </tbody>\n",
       "</table>\n",
       "</div>"
      ],
      "text/plain": [
       "          City  Temperature (°C)  Humidity (%)\n",
       "0  Southampton             13.41            75\n",
       "1     New York             27.91            62"
      ]
     },
     "execution_count": 14,
     "metadata": {},
     "output_type": "execute_result"
    }
   ],
   "source": [
    "import requests\n",
    "\n",
    "api_key = \"0d1ad24782db5aaeeb1f380e8fad7bf8\"  # your existing API key\n",
    "\n",
    "cities = [\"Southampton\", \"New York\"]\n",
    "weather_data = []\n",
    "\n",
    "for city in cities:\n",
    "    url = f\"https://api.openweathermap.org/data/2.5/weather?q={city}&appid={api_key}&units=metric\"\n",
    "    response = requests.get(url)\n",
    "    \n",
    "    if response.status_code == 200:\n",
    "        data = response.json()\n",
    "        weather_data.append({\n",
    "            \"City\": city,\n",
    "            \"Temperature (°C)\": data[\"main\"][\"temp\"],\n",
    "            \"Humidity (%)\": data[\"main\"][\"humidity\"]\n",
    "        })\n",
    "    else:\n",
    "        print(f\"Failed to fetch data for {city}. Error: {response.status_code}\")\n",
    "\n",
    "# Convert to DataFrame\n",
    "import pandas as pd\n",
    "weather_df = pd.DataFrame(weather_data)\n",
    "weather_df\n"
   ]
  },
  {
   "cell_type": "markdown",
   "id": "c3629725-aee8-44ef-8a53-4cc06db7dbaa",
   "metadata": {},
   "source": [
    "**Part 6: Data Quality Dimensions**\n",
    "\n",
    "Assess the quality of the Titanic dataset."
   ]
  },
  {
   "cell_type": "code",
   "execution_count": 18,
   "id": "3a48e078-805b-4a80-8320-00cd713eae72",
   "metadata": {},
   "outputs": [
    {
     "data": {
      "text/plain": [
       "array(['female', 'male', nan], dtype=object)"
      ]
     },
     "execution_count": 18,
     "metadata": {},
     "output_type": "execute_result"
    }
   ],
   "source": [
    "# Check if any duplicate rows exist\n",
    "df.duplicated().sum()\n",
    "# Check unique values in 'Sex' column (should only be 'male' or 'female')\n",
    "df['sex'].unique()\n",
    "# Check if Age column has any unrealistic values\n",
    "df['age'].describe()\n"
   ]
  },
  {
   "cell_type": "markdown",
   "id": "3842e84b-4274-4bdc-a8bb-d8321b34f5b9",
   "metadata": {},
   "source": [
    "Observations:\n",
    "\n",
    "- Completeness: Some columns like Cabin and Age may have missing values.\n",
    "- Duplicates: If duplicates exist, they should be removed before analysis.\n",
    "- Consistency: Values like male, female look consistent. This is a good sign.\n",
    "- Accuracy: Hard to measure without an external source, but we can flag strange values (e.g., negative age, extremely high fare).\n",
    "\n",
    "Checking data quality helps prevent wrong conclusions during analysis or modeling.\n"
   ]
  },
  {
   "cell_type": "markdown",
   "id": "a7e89923-4c5e-4971-8fb7-e9c1035a4ceb",
   "metadata": {},
   "source": [
    "**Part 7: Data Modeling**\n",
    "\n",
    "Create a simple data model for a Hotel Management System."
   ]
  },
  {
   "cell_type": "code",
   "execution_count": 27,
   "id": "acdb8fe3-aff1-46ae-9895-fd7b3d92f899",
   "metadata": {},
   "outputs": [
    {
     "name": "stdout",
     "output_type": "stream",
     "text": [
      "Guests Table\n",
      ":    Guest_ID   Name              Email\n",
      "0         1  Alice  alice@example.com\n",
      "1         2    Bob    bob@example.com\n",
      "\n",
      "Rooms Table\n",
      ":    Room_ID Room_Type  Price\n",
      "0      101    Single    100\n",
      "1      102    Double    150\n",
      "\n",
      "Bookings Table\n",
      ":    Booking_ID  Guest_ID  Room_ID  Nights\n",
      "0           1         1      101       3\n",
      "1           2         2      102       2\n",
      "\n"
     ]
    }
   ],
   "source": [
    "import pandas as pd\n",
    "\n",
    "#Create the Guests Table\n",
    "guests = pd.DataFrame({\n",
    "    \"Guest_ID\": [1, 2],\n",
    "    \"Name\": [\"Alice\", \"Bob\"],\n",
    "    \"Email\": [\"alice@example.com\", \"bob@example.com\"]\n",
    "})\n",
    "print(f\"Guests Table\\n: {guests}\\n\")\n",
    "\n",
    "#Create the Rooms Table\n",
    "rooms = pd.DataFrame({\n",
    "    \"Room_ID\": [101, 102],\n",
    "    \"Room_Type\": [\"Single\", \"Double\"],\n",
    "    \"Price\": [100, 150]\n",
    "})\n",
    "print(f\"Rooms Table\\n: {rooms}\\n\")\n",
    "\n",
    "#Create the Bookings Table\n",
    "bookings = pd.DataFrame({\n",
    "    \"Booking_ID\": [1, 2],\n",
    "    \"Guest_ID\": [1, 2],     # Foreign key to Guests\n",
    "    \"Room_ID\": [101, 102],  # Foreign key to Rooms\n",
    "    \"Nights\": [3, 2]\n",
    "})\n",
    "print(f\"Bookings Table\\n: {bookings}\\n\")"
   ]
  },
  {
   "cell_type": "markdown",
   "id": "87a49a29-cf6b-4c19-87df-b7b14dfa7842",
   "metadata": {},
   "source": [
    "Observations:\n",
    "\n",
    "- Each table is an entity.\n",
    "- 'Guest_ID' and 'Room_ID' act as foreign keys in the Bookings table.\n",
    "- This basic structure allows us to answer real questions like:\n",
    "  - Who booked which room?\n",
    "  - How much did a guest pay?\n",
    "\n",
    "This is a simple relational data model, just like in real database design.\n"
   ]
  },
  {
   "cell_type": "markdown",
   "id": "be0d15b8-44a3-4f88-a005-e1597d3063a9",
   "metadata": {},
   "source": [
    "**Part 8: Data Visualization**\n",
    "\n",
    "Create visualizations using matplotlib and seaborn."
   ]
  },
  {
   "cell_type": "code",
   "execution_count": 34,
   "id": "14b2b8fd-e7df-4594-a54f-3fae964184da",
   "metadata": {},
   "outputs": [
    {
     "name": "stderr",
     "output_type": "stream",
     "text": [
      "C:\\Users\\achar\\AppData\\Local\\Temp\\ipykernel_18140\\3947065357.py:11: FutureWarning: \n",
      "\n",
      "Passing `palette` without assigning `hue` is deprecated and will be removed in v0.14.0. Assign the `x` variable to `hue` and set `legend=False` for the same effect.\n",
      "\n",
      "  sns.countplot(data=df, x=\"pclass\", palette=\"Blues\")\n"
     ]
    },
    {
     "data": {
      "image/png": "[encoded data removed]",
      "text/plain": [
       "<Figure size 600x400 with 1 Axes>"
      ]
     },
     "metadata": {},
     "output_type": "display_data"
    }
   ],
   "source": [
    "import seaborn as sns\n",
    "import matplotlib.pyplot as plt\n",
    "\n",
    "#Bar Chart — Passengers by Class\n",
    "\n",
    "# Set plot style\n",
    "sns.set(style=\"whitegrid\")\n",
    "\n",
    "# Countplot for passenger class\n",
    "plt.figure(figsize=(6, 4))\n",
    "sns.countplot(data=df, x=\"pclass\", palette=\"Blues\")\n",
    "\n",
    "plt.title(\"Number of Passengers by Class\")\n",
    "plt.xlabel(\"Passenger Class\")\n",
    "plt.ylabel(\"Count\")\n",
    "plt.savefig(\"barchart.png\")\n",
    "plt.show()\n"
   ]
  },
  {
   "cell_type": "code",
   "execution_count": 35,
   "id": "c7f9e42c-0b65-470d-a6d2-85d3faaed6fb",
   "metadata": {},
   "outputs": [
    {
     "data": {
      "image/png": "[encoded data removed]",
      "text/plain": [
       "<Figure size 600x400 with 1 Axes>"
      ]
     },
     "metadata": {},
     "output_type": "display_data"
    }
   ],
   "source": [
    "#Histogram- Age Distribution\n",
    "plt.figure(figsize=(6, 4))\n",
    "sns.histplot(data=df, x=\"age\", bins=20, kde=True, color=\"green\")\n",
    "\n",
    "plt.title(\"Distribution of Passenger Age\")\n",
    "plt.xlabel(\"Age\")\n",
    "plt.ylabel(\"Frequency\")\n",
    "plt.savefig('histogram.png')\n",
    "plt.show()\n"
   ]
  },
  {
   "cell_type": "markdown",
   "id": "2744416a-cac8-4402-b853-cee0b4cf10b7",
   "metadata": {},
   "source": [
    "Observations:\n",
    "\n",
    "- Most passengers were in 3rd class, fewer in 1st and 2nd.\n",
    "- The age distribution shows many passengers between 20–40 years, with fewer children and elderly.\n",
    "\n",
    "Visualizations make data stories easier to tell — and help analysts present insights effectively.\n"
   ]
  },
  {
   "cell_type": "markdown",
   "id": "a6472e73-7cff-4fc3-8241-977bc464e328",
   "metadata": {},
   "source": [
    "**Part 9: Web Scraping**\n",
    "\n",
    "Scrape additional data related to the Titanic from a website.\n",
    "\n",
    "I'll extract:\n",
    "- The first paragraph from the page\n"
   ]
  },
  {
   "cell_type": "code",
   "execution_count": 38,
   "id": "8b29a5af-d8f8-4a41-a434-c6b12a4c4170",
   "metadata": {},
   "outputs": [
    {
     "name": "stdout",
     "output_type": "stream",
     "text": [
      "First Paragraph:\n",
      "\n",
      "RMS Titanic was a British ocean liner that sank in the early hours of 15 April 1912 as a result of striking an iceberg on her maiden voyage from Southampton , England, to New York City , United States. Of the estimated 2,224 passengers and crew aboard, approximately 1,500 died (estimates vary), making the incident one of the deadliest peacetime sinkings of a single ship . [ 4 ] Titanic , operated by White Star Line, carried some of the wealthiest people in the world, as well as hundreds of emigrants from the British Isles , Scandinavia , and elsewhere in Europe who were seeking a new life in the United States and Canada. The disaster drew public attention, spurred major changes in maritime safety regulations, and inspired a lasting legacy in popular culture . It was the second time White Star Line had lost a ship on her maiden voyage, the first being RMS Tayleur in 1854.\n"
     ]
    }
   ],
   "source": [
    "import requests\n",
    "from bs4 import BeautifulSoup\n",
    "\n",
    "# Wikipedia Titanic page\n",
    "url = \"https://en.wikipedia.org/wiki/RMS_Titanic\"\n",
    "response = requests.get(url)\n",
    "\n",
    "# Parse HTML\n",
    "soup = BeautifulSoup(response.content, \"html.parser\")\n",
    "\n",
    "# First clean paragraph with spacing preserved\n",
    "paragraphs = soup.find_all('p')\n",
    "\n",
    "for p in paragraphs:\n",
    "    text = p.get_text(separator=\" \", strip=True)\n",
    "    if text:\n",
    "        print(\"First Paragraph:\\n\")\n",
    "        print(text)\n",
    "        break\n",
    "\n"
   ]
  },
  {
   "cell_type": "code",
   "execution_count": null,
   "id": "513af0c1-3d9c-43a5-bb34-6646d247e4da",
   "metadata": {},
   "outputs": [],
   "source": []
  }
 ],
 "metadata": {
  "kernelspec": {
   "display_name": "Python 3 (ipykernel)",
   "language": "python",
   "name": "python3"
  },
  "language_info": {
   "codemirror_mode": {
    "name": "ipython",
    "version": 3
   },
   "file_extension": ".py",
   "mimetype": "text/x-python",
   "name": "python",
   "nbconvert_exporter": "python",
   "pygments_lexer": "ipython3",
   "version": "3.12.7"
  }
 },
 "nbformat": 4,
 "nbformat_minor": 5
}
