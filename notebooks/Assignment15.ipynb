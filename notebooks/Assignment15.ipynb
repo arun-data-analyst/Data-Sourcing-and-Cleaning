{
 "cells": [
  {
   "cell_type": "markdown",
   "id": "3ab2f8f8-b6ef-4f7f-bd5a-c6da21091c10",
   "metadata": {},
   "source": [
    "## Inspect and Understand the Web Page Structure\n",
    "\n",
    "To extract data from the website, I first inspected the structure of the web page.\n",
    "\n",
    "- I opened [https://books.toscrape.com/](https://books.toscrape.com/) in a browser.\n",
    "- Then I right-clicked on a book and selected **\"Inspect\"** to view the HTML.\n",
    "- I found that each book is inside an HTML element: `<article class=\"product_pod\">`\n",
    "- The **book title** is stored in: `<h3><a title=\"Book Title\">...</a></h3>`\n",
    "- The **price** is inside a `<p>` tag with class `price_color`.\n",
    "\n",
    "This information helps me know exactly what tags and classes to target when extracting data using Python.\n"
   ]
  },
  {
   "cell_type": "code",
   "execution_count": 1,
   "id": "b015e9c6-f3b9-48cd-ac06-2fc5ed0883da",
   "metadata": {},
   "outputs": [],
   "source": [
    "##Fetch and Parse the Web Page\n",
    "import requests\n",
    "from bs4 import BeautifulSoup\n",
    "\n",
    "# Fetch the first page of the site\n",
    "url = 'https://books.toscrape.com/catalogue/page-1.html'\n",
    "response = requests.get(url)\n",
    "\n",
    "# Parse the HTML using BeautifulSoup\n",
    "soup = BeautifulSoup(response.text, 'html.parser')"
   ]
  },
  {
   "cell_type": "code",
   "execution_count": 2,
   "id": "8de337e8-35d5-4532-9a1a-16aaac0f3750",
   "metadata": {},
   "outputs": [
    {
     "name": "stdout",
     "output_type": "stream",
     "text": [
      "A Light in the Attic — Â£51.77\n",
      "Tipping the Velvet — Â£53.74\n",
      "Soumission — Â£50.10\n",
      "Sharp Objects — Â£47.82\n",
      "Sapiens: A Brief History of Humankind — Â£54.23\n",
      "The Requiem Red — Â£22.65\n",
      "The Dirty Little Secrets of Getting Your Dream Job — Â£33.34\n",
      "The Coming Woman: A Novel Based on the Life of the Infamous Feminist, Victoria Woodhull — Â£17.93\n",
      "The Boys in the Boat: Nine Americans and Their Epic Quest for Gold at the 1936 Berlin Olympics — Â£22.60\n",
      "The Black Maria — Â£52.15\n",
      "Starving Hearts (Triangular Trade Trilogy, #1) — Â£13.99\n",
      "Shakespeare's Sonnets — Â£20.66\n",
      "Set Me Free — Â£17.46\n",
      "Scott Pilgrim's Precious Little Life (Scott Pilgrim #1) — Â£52.29\n",
      "Rip it Up and Start Again — Â£35.02\n",
      "Our Band Could Be Your Life: Scenes from the American Indie Underground, 1981-1991 — Â£57.25\n",
      "Olio — Â£23.88\n",
      "Mesaerion: The Best Science Fiction Stories 1800-1849 — Â£37.59\n",
      "Libertarianism for Beginners — Â£51.33\n",
      "It's Only the Himalayas — Â£45.17\n"
     ]
    }
   ],
   "source": [
    "## Extract Data from the Web Page\n",
    "# Find all book containers on the page\n",
    "books = soup.find_all('article', class_='product_pod')\n",
    "\n",
    "# Loop through each book and extract the title and price\n",
    "for book in books:\n",
    "    title = book.h3.a['title']\n",
    "    price = book.find('p', class_='price_color').text\n",
    "    print(f'{title} — {price}')"
   ]
  },
  {
   "cell_type": "code",
   "execution_count": 3,
   "id": "b8c31e83-4e2b-4b78-9e92-d0af9354a950",
   "metadata": {},
   "outputs": [],
   "source": [
    "## Handle Pagination\n",
    "all_books = []\n",
    "page = 1\n",
    "\n",
    "while True:\n",
    "    url = f'https://books.toscrape.com/catalogue/page-{page}.html'\n",
    "    response = requests.get(url)\n",
    "\n",
    "    # Stop the loop if page does not exist\n",
    "    if response.status_code != 200:\n",
    "        break\n",
    "\n",
    "    soup = BeautifulSoup(response.text, 'html.parser')\n",
    "    books = soup.find_all('article', class_='product_pod')\n",
    "\n",
    "    if not books:\n",
    "        break  # Stop if no books found\n",
    "\n",
    "    for book in books:\n",
    "        title = book.h3.a['title']\n",
    "        price = book.find('p', class_='price_color').text\n",
    "        all_books.append([title, price])\n",
    "\n",
    "    page += 1"
   ]
  },
  {
   "cell_type": "code",
   "execution_count": 4,
   "id": "60f1f42b-4cae-4bc9-8cbb-b7e1361bac3a",
   "metadata": {},
   "outputs": [
    {
     "name": "stdout",
     "output_type": "stream",
     "text": [
      "Data saved to books.csv\n"
     ]
    }
   ],
   "source": [
    "## Save the Extracted Data\n",
    "import csv\n",
    "\n",
    "# Save the list of books into a CSV file\n",
    "with open('books.csv', 'w', newline='', encoding='utf-8') as f:\n",
    "    writer = csv.writer(f)\n",
    "    writer.writerow(['Title', 'Price'])  # Write header\n",
    "    writer.writerows(all_books)          # Write data\n",
    "\n",
    "print(\"Data saved to books.csv\")"
   ]
  },
  {
   "cell_type": "code",
   "execution_count": null,
   "id": "f05bcc8d-69d4-4fec-ad3a-b417f6e380e5",
   "metadata": {},
   "outputs": [],
   "source": []
  }
 ],
 "metadata": {
  "kernelspec": {
   "display_name": "Python 3 (ipykernel)",
   "language": "python",
   "name": "python3"
  },
  "language_info": {
   "codemirror_mode": {
    "name": "ipython",
    "version": 3
   },
   "file_extension": ".py",
   "mimetype": "text/x-python",
   "name": "python",
   "nbconvert_exporter": "python",
   "pygments_lexer": "ipython3",
   "version": "3.12.7"
  }
 },
 "nbformat": 4,
 "nbformat_minor": 5
}
